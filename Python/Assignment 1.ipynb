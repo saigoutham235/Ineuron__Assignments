{
 "cells": [
  {
   "cell_type": "markdown",
   "id": "7deae35a",
   "metadata": {},
   "source": [
    "# 1. In the below elements which of them are values or an expression? eg:- values can be integer or string and expressions will be mathematical operators."
   ]
  },
  {
   "cell_type": "raw",
   "id": "b4256d5a",
   "metadata": {},
   "source": [
    "Ans: There are 4 expressions and 3 variables Expressions : *,-,/,+ Values: 'hello',-87.8,6"
   ]
  },
  {
   "cell_type": "markdown",
   "id": "0d708426",
   "metadata": {},
   "source": [
    "# 2. What is the difference between string and variable?"
   ]
  },
  {
   "cell_type": "markdown",
   "id": "870bf1a4",
   "metadata": {},
   "source": [
    "Ans: A Variable is used to store a value. String is a type of information that we stored in variable. String can be represented as \" \"(double quote) or ' '(single quote)"
   ]
  },
  {
   "cell_type": "markdown",
   "id": "be0c34f5",
   "metadata": {},
   "source": [
    "# 3. Describe three different Data Types ?"
   ]
  },
  {
   "cell_type": "raw",
   "id": "c207a1e2",
   "metadata": {},
   "source": [
    "Ans: The three basic data types are int,float,bool int: Int data type is used to store data in numbers(numeric format) float: Float data type is used to store data in floating point values(Decimal point) bool: Boolean data type is used to store the data in form of either True or False"
   ]
  },
  {
   "cell_type": "code",
   "execution_count": 2,
   "id": "a226b015",
   "metadata": {},
   "outputs": [
    {
     "name": "stdout",
     "output_type": "stream",
     "text": [
      "4567 <class 'int'>\n",
      "1.265 <class 'float'>\n",
      "True <class 'bool'>\n"
     ]
    }
   ],
   "source": [
    "# Example for int data type\n",
    "n=4567\n",
    "print(n, type(n))\n",
    "# Example for float data type\n",
    "f=1.265\n",
    "print(f, type(f))\n",
    "# Example for bool data type\n",
    "a = True\n",
    "print(a, type(a))"
   ]
  },
  {
   "cell_type": "markdown",
   "id": "71884a14",
   "metadata": {},
   "source": [
    "# 4. What is an expression made up of? What do all expressions do?"
   ]
  },
  {
   "cell_type": "raw",
   "id": "521fcc71",
   "metadata": {},
   "source": [
    "Ans: An expression is made up of all values,variables, operators and functions.\n",
    "\n",
    "Ex: 2+3*4=20 # Is an Expression, The Python Interpreter Evaluates it to 0"
   ]
  },
  {
   "cell_type": "markdown",
   "id": "fd287331",
   "metadata": {},
   "source": [
    "# 5.This assignment statements, like spam = 10. What is the difference between an expression and a statement?"
   ]
  },
  {
   "cell_type": "raw",
   "id": "bb83c586",
   "metadata": {},
   "source": [
    "Ans:1. An expression is made up of all values,variables, operators and functions.\n",
    "\n",
    "2. A statement is shows the display the content. While in python interpreter, the general statements says like it    doesn't have values"
   ]
  },
  {
   "cell_type": "markdown",
   "id": "13a3d094",
   "metadata": {},
   "source": [
    "# 6.After running the following code, what does the variable bacon contain? bacon = 22  bacon + 1"
   ]
  },
  {
   "cell_type": "raw",
   "id": "be239ee8",
   "metadata": {},
   "source": [
    "Ans: Bacon contains value of 22 which bacon+1 contains only 22 because it doesn't ressign to anything"
   ]
  },
  {
   "cell_type": "code",
   "execution_count": 3,
   "id": "f0394975",
   "metadata": {},
   "outputs": [
    {
     "name": "stdout",
     "output_type": "stream",
     "text": [
      "22\n"
     ]
    }
   ],
   "source": [
    "#case #1\n",
    "bacon=22\n",
    "bacon+1\n",
    "print(bacon)"
   ]
  },
  {
   "cell_type": "code",
   "execution_count": 4,
   "id": "f583cb49",
   "metadata": {},
   "outputs": [
    {
     "name": "stdout",
     "output_type": "stream",
     "text": [
      "23\n"
     ]
    }
   ],
   "source": [
    "# Case#2\n",
    "bacon=22\n",
    "bacon=bacon+1\n",
    "print(bacon)"
   ]
  },
  {
   "cell_type": "markdown",
   "id": "5e9fff40",
   "metadata": {},
   "source": [
    "# 7.What should the values of the following two terms be? 'spam'+'spamspam' 'spam'*3"
   ]
  },
  {
   "cell_type": "raw",
   "id": "8267ecec",
   "metadata": {},
   "source": [
    "Ans: Both the values outcomes same value but diff notation are there. 'spam'+'spamspam' is called as string concentation where as 'spam'*3 called as string multiplication."
   ]
  },
  {
   "cell_type": "code",
   "execution_count": 5,
   "id": "484040da",
   "metadata": {},
   "outputs": [
    {
     "data": {
      "text/plain": [
       "'spamspamspam'"
      ]
     },
     "execution_count": 5,
     "metadata": {},
     "output_type": "execute_result"
    }
   ],
   "source": [
    "'spam'+'spamspam' "
   ]
  },
  {
   "cell_type": "code",
   "execution_count": 6,
   "id": "d2cdc2f5",
   "metadata": {},
   "outputs": [
    {
     "data": {
      "text/plain": [
       "'spamspamspam'"
      ]
     },
     "execution_count": 6,
     "metadata": {},
     "output_type": "execute_result"
    }
   ],
   "source": [
    "'spam'*3"
   ]
  },
  {
   "cell_type": "markdown",
   "id": "950d14f7",
   "metadata": {},
   "source": [
    "# 8.Why is eggs a valid variable name while 100 is invalid?"
   ]
  },
  {
   "cell_type": "raw",
   "id": "023cf4d5",
   "metadata": {},
   "source": [
    "Ans: Egg is valid variable name in python because python intepreter accepts only alphabetical words or underscore charcter or case sensitive only. If you give 100 as variable name it doesn't accepts"
   ]
  },
  {
   "cell_type": "code",
   "execution_count": 7,
   "id": "99522e97",
   "metadata": {},
   "outputs": [
    {
     "name": "stdout",
     "output_type": "stream",
     "text": [
      "5\n"
     ]
    }
   ],
   "source": [
    "Egg = 5\n",
    "print(Egg)"
   ]
  },
  {
   "cell_type": "code",
   "execution_count": 8,
   "id": "7ea6e66c",
   "metadata": {},
   "outputs": [
    {
     "ename": "SyntaxError",
     "evalue": "cannot assign to literal (Temp/ipykernel_1000/2621355.py, line 1)",
     "output_type": "error",
     "traceback": [
      "\u001b[1;36m  File \u001b[1;32m\"C:\\Users\\hellooo\\AppData\\Local\\Temp/ipykernel_1000/2621355.py\"\u001b[1;36m, line \u001b[1;32m1\u001b[0m\n\u001b[1;33m    100=\"Ineuron\"\u001b[0m\n\u001b[1;37m    ^\u001b[0m\n\u001b[1;31mSyntaxError\u001b[0m\u001b[1;31m:\u001b[0m cannot assign to literal\n"
     ]
    }
   ],
   "source": [
    "100=\"Ineuron\"\n",
    "print(100)"
   ]
  },
  {
   "cell_type": "markdown",
   "id": "47baf3dc",
   "metadata": {},
   "source": [
    "# 9.What three functions can be used to get the integer,floating-point number,or string version of a value?"
   ]
  },
  {
   "cell_type": "raw",
   "id": "be324e25",
   "metadata": {},
   "source": [
    "Ans: There are three functions int(),float(),str()"
   ]
  },
  {
   "cell_type": "code",
   "execution_count": 9,
   "id": "89e27fe6",
   "metadata": {},
   "outputs": [
    {
     "name": "stdout",
     "output_type": "stream",
     "text": [
      "10\n",
      "10.0\n",
      "10\n"
     ]
    }
   ],
   "source": [
    "print(int(10.0))\n",
    "print(float(10))\n",
    "print(str(10))"
   ]
  },
  {
   "cell_type": "markdown",
   "id": "b04da9f9",
   "metadata": {},
   "source": [
    "# 10.Why does this expression cause an error? how can you fix it? 'I have eaten ' + 99 + 'burritos.'"
   ]
  },
  {
   "cell_type": "raw",
   "id": "94e053ca",
   "metadata": {},
   "source": [
    "Ans: we can add int vale and str value because it doesn't have same value type. It shows error For rectify this error for above statement, Wewill convert 99 into string type"
   ]
  },
  {
   "cell_type": "code",
   "execution_count": 10,
   "id": "a9225cc5",
   "metadata": {},
   "outputs": [
    {
     "data": {
      "text/plain": [
       "'I have eaten 99burritos.'"
      ]
     },
     "execution_count": 10,
     "metadata": {},
     "output_type": "execute_result"
    }
   ],
   "source": [
    "'I have eaten ' + str(99) + 'burritos.'"
   ]
  },
  {
   "cell_type": "code",
   "execution_count": null,
   "id": "70fb7168",
   "metadata": {},
   "outputs": [],
   "source": []
  }
 ],
 "metadata": {
  "kernelspec": {
   "display_name": "Python 3 (ipykernel)",
   "language": "python",
   "name": "python3"
  },
  "language_info": {
   "codemirror_mode": {
    "name": "ipython",
    "version": 3
   },
   "file_extension": ".py",
   "mimetype": "text/x-python",
   "name": "python",
   "nbconvert_exporter": "python",
   "pygments_lexer": "ipython3",
   "version": "3.9.7"
  }
 },
 "nbformat": 4,
 "nbformat_minor": 5
}
